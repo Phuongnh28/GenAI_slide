{
  "cells": [
    {
      "cell_type": "markdown",
      "metadata": {
        "id": "view-in-github",
        "colab_type": "text"
      },
      "source": [
        "<a href=\"https://colab.research.google.com/github/Phuongnh28/GenAI_slide/blob/main/GenAI_slide.ipynb\" target=\"_parent\"><img src=\"https://colab.research.google.com/assets/colab-badge.svg\" alt=\"Open In Colab\"/></a>"
      ]
    },
    {
      "cell_type": "code",
      "source": [
        "pip install pypdf"
      ],
      "metadata": {
        "id": "EZsKYnLhOdw_",
        "outputId": "7d990de9-0960-4f17-dea5-e3f117f60aaf",
        "colab": {
          "base_uri": "https://localhost:8080/"
        }
      },
      "execution_count": 5,
      "outputs": [
        {
          "output_type": "stream",
          "name": "stdout",
          "text": [
            "Collecting pypdf\n",
            "  Downloading pypdf-5.1.0-py3-none-any.whl.metadata (7.2 kB)\n",
            "Downloading pypdf-5.1.0-py3-none-any.whl (297 kB)\n",
            "\u001b[2K   \u001b[90m━━━━━━━━━━━━━━━━━━━━━━━━━━━━━━━━━━━━━━━━\u001b[0m \u001b[32m298.0/298.0 kB\u001b[0m \u001b[31m4.9 MB/s\u001b[0m eta \u001b[36m0:00:00\u001b[0m\n",
            "\u001b[?25hInstalling collected packages: pypdf\n",
            "Successfully installed pypdf-5.1.0\n"
          ]
        }
      ]
    },
    {
      "cell_type": "code",
      "source": [
        "from pypdf import PdfReader\n",
        "from transformers import LlamaTokenizer, LlamaForCausalLM"
      ],
      "metadata": {
        "id": "WdRevFtEf9ja"
      },
      "execution_count": 6,
      "outputs": []
    },
    {
      "cell_type": "code",
      "source": [
        "# Download sample documents\n",
        "!gdown --folder 1W41ef2hm9jiuQr8JHb9hhiOzaDgZe6YD -O sample_documents"
      ],
      "metadata": {
        "id": "t0V01wftNlu2",
        "outputId": "1bdff8ec-d93f-408b-b675-542e9172b465",
        "colab": {
          "base_uri": "https://localhost:8080/"
        }
      },
      "execution_count": 1,
      "outputs": [
        {
          "output_type": "stream",
          "name": "stdout",
          "text": [
            "Retrieving folder contents\n",
            "Processing file 1Vo_4jdogcSfK0_SlobkiHoYg3URhmJAm Adding_a_User.pdf\n",
            "Processing file 1_l7u521zfwnwYt8LRwlrcaUwz8ZO7QZX ID_Validation_Tips.pdf\n",
            "Processing file 12zfRktXiazVd_j6ENkSFKdelErT3Vgd- RON-FAQ.pdf\n",
            "Retrieving folder contents completed\n",
            "Building directory structure\n",
            "Building directory structure completed\n",
            "Downloading...\n",
            "From: https://drive.google.com/uc?id=1Vo_4jdogcSfK0_SlobkiHoYg3URhmJAm\n",
            "To: /content/sample_documents/Adding_a_User.pdf\n",
            "100% 175k/175k [00:00<00:00, 38.5MB/s]\n",
            "Downloading...\n",
            "From: https://drive.google.com/uc?id=1_l7u521zfwnwYt8LRwlrcaUwz8ZO7QZX\n",
            "To: /content/sample_documents/ID_Validation_Tips.pdf\n",
            "100% 77.8k/77.8k [00:00<00:00, 10.4MB/s]\n",
            "Downloading...\n",
            "From: https://drive.google.com/uc?id=12zfRktXiazVd_j6ENkSFKdelErT3Vgd-\n",
            "To: /content/sample_documents/RON-FAQ.pdf\n",
            "100% 55.7k/55.7k [00:00<00:00, 27.5MB/s]\n",
            "Download completed\n"
          ]
        }
      ]
    },
    {
      "cell_type": "code",
      "source": [
        "file_path = '/content/sample_documents/Adding_a_User.pdf'\n",
        "reader = PdfReader(file_path)\n",
        "\n",
        "# Tổng số trang trong file PDF\n",
        "total_pages = len(reader.pages)\n",
        "print(f\"Số lượng trang trong file PDF: {total_pages}\")\n",
        "\n",
        "# Lấy nội dung toàn bộ file PDF\n",
        "full_text = \"\"\n",
        "for i, page in enumerate(reader.pages):\n",
        "    full_text += f\"--- Nội dung trang {i + 1} ---\\n\"\n",
        "    full_text += page.extract_text()\n",
        "    full_text += \"\\n\\n\"\n",
        "\n",
        "# In toàn bộ nội dung\n",
        "print(\"Nội dung toàn bộ file PDF:\")\n",
        "print(full_text)\n"
      ],
      "metadata": {
        "id": "6HDgf4c1gJ6O",
        "outputId": "a3f145bd-46e3-45cb-a8e4-0d2616f53e22",
        "colab": {
          "base_uri": "https://localhost:8080/"
        }
      },
      "execution_count": 7,
      "outputs": [
        {
          "output_type": "stream",
          "name": "stdout",
          "text": [
            "Số lượng trang trong file PDF: 2\n",
            "Nội dung toàn bộ file PDF:\n",
            "--- Nội dung trang 1 ---\n",
            "  My Company – Adding a User \n",
            " \n",
            " \n",
            " \n",
            "© 2024 Pavaso - www.pavaso.com  Page 1 \n",
            "Log in to your Pavaso account. \n",
            "Select My Company. \n",
            "Note: Only available to Company Administrators.  \n",
            " \n",
            " \n",
            "Select Edit. \n",
            " \n",
            " \n",
            "Select Users. \n",
            " \n",
            " \n",
            " \n",
            " \n",
            " \n",
            "\n",
            "\n",
            "--- Nội dung trang 2 ---\n",
            "  My Company – Adding a User \n",
            " \n",
            " \n",
            " \n",
            "© 2024 Pavaso - www.pavaso.com  Page 2 \n",
            "Select Add User. \n",
            " \n",
            " \n",
            " \n",
            " \n",
            " \n",
            " \n",
            " \n",
            " \n",
            " \n",
            " \n",
            " \n",
            " \n",
            "Pavaso Support \n",
            "Support Hours: https://pavaso.com/contact/  \n",
            "Phone/ Closing Hotline: (866) 288-7051 \n",
            "Email: support@pavaso.com \n",
            "View Our 24/7 Online Help Library \n",
            "\n",
            "\n",
            "\n"
          ]
        }
      ]
    },
    {
      "cell_type": "code",
      "source": [],
      "metadata": {
        "id": "7VkUAjgdiDS_"
      },
      "execution_count": null,
      "outputs": []
    }
  ],
  "metadata": {
    "colab": {
      "provenance": [],
      "include_colab_link": true
    },
    "kernelspec": {
      "display_name": "Python 3",
      "name": "python3"
    }
  },
  "nbformat": 4,
  "nbformat_minor": 0
}