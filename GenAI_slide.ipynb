{
  "cells": [
    {
      "cell_type": "markdown",
      "metadata": {
        "id": "view-in-github",
        "colab_type": "text"
      },
      "source": [
        "<a href=\"https://colab.research.google.com/github/Phuongnh28/GenAI_slide/blob/main/GenAI_slide.ipynb\" target=\"_parent\"><img src=\"https://colab.research.google.com/assets/colab-badge.svg\" alt=\"Open In Colab\"/></a>"
      ]
    },
    {
      "cell_type": "markdown",
      "source": [
        "# TIMELINE"
      ],
      "metadata": {
        "id": "2Jz8F3sLzj_Q"
      }
    },
    {
      "cell_type": "markdown",
      "source": [
        "Start date: 01/12/2024 - 30/12/2024"
      ],
      "metadata": {
        "id": "AhSpPCalzwJe"
      }
    },
    {
      "cell_type": "markdown",
      "source": [
        "MACHINE LEANING WITH PYTHON"
      ],
      "metadata": {
        "id": "XqoMQYkD0GO5"
      }
    },
    {
      "cell_type": "code",
      "source": [],
      "metadata": {
        "id": "CE-GH3cA0LyH"
      },
      "execution_count": null,
      "outputs": []
    }
  ],
  "metadata": {
    "colab": {
      "toc_visible": true,
      "provenance": [],
      "include_colab_link": true
    },
    "kernelspec": {
      "display_name": "Python 3",
      "name": "python3"
    }
  },
  "nbformat": 4,
  "nbformat_minor": 0
}